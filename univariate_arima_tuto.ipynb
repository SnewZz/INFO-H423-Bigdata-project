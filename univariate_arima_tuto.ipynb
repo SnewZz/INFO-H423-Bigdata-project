{
 "cells": [
  {
   "cell_type": "code",
   "execution_count": 40,
   "metadata": {},
   "outputs": [],
   "source": [
    "import pandas as pd\n",
    "import statsmodels.api as sm\n",
    "from statsmodels.tsa.stattools import adfuller\n",
    "from statsmodels.tsa.stattools import kpss\n",
    "from statsmodels.tsa.arima.model import ARIMA\n",
    "import numpy as np\n",
    "import matplotlib.pyplot as plt"
   ]
  },
  {
   "cell_type": "code",
   "execution_count": 43,
   "metadata": {},
   "outputs": [
    {
     "name": "stdout",
     "output_type": "stream",
     "text": [
      "(3487, 32)\n"
     ]
    }
   ],
   "source": [
    "file = './data/trajets_train.csv'\n",
    "df = pd.read_csv(file,sep=\",\",index_col=[0]) \n",
    "traj1 = df[df['traj']==7809] #3500\n",
    "print(traj1.shape)\n",
    "traj2 = df[df['traj']==89117] #2500\n",
    "\n",
    "traj1 = df[df['traj']==236654]"
   ]
  },
  {
   "cell_type": "code",
   "execution_count": 44,
   "metadata": {},
   "outputs": [],
   "source": [
    "def test_stationarity(ts_data, column='', signif=0.05, series=False):\n",
    "    if series:\n",
    "        adf_test = adfuller(ts_data, autolag='AIC')\n",
    "    else:\n",
    "        adf_test = adfuller(ts_data[column], autolag='AIC')\n",
    "    p_value = adf_test[1]\n",
    "    if p_value <= signif:\n",
    "        test_result = \"Stationary\"\n",
    "    else:\n",
    "        test_result = \"Non-Stationary\"\n",
    "    return test_result"
   ]
  },
  {
   "cell_type": "code",
   "execution_count": 45,
   "metadata": {},
   "outputs": [],
   "source": [
    "def test_stationarity_kpss(ts_data, column='', signif=0.05, series=False):\n",
    "    if series:\n",
    "        kpss_test = kpss(ts_data)\n",
    "    else:\n",
    "        kpss_test = kpss(ts_data[column])\n",
    "    p_value = kpss_test[1]\n",
    "    if p_value <= signif:\n",
    "        test_result = \"Non-Stationary\"\n",
    "    else:\n",
    "        test_result = \"Stationary\"\n",
    "    return test_result"
   ]
  },
  {
   "cell_type": "code",
   "execution_count": 46,
   "metadata": {},
   "outputs": [
    {
     "name": "stdout",
     "output_type": "stream",
     "text": [
      "Stationary\n",
      "Non-Stationary\n"
     ]
    },
    {
     "name": "stderr",
     "output_type": "stream",
     "text": [
      "C:\\Users\\Vincent\\AppData\\Local\\Temp\\ipykernel_21828\\607626589.py:5: InterpolationWarning: The test statistic is outside of the range of p-values available in the\n",
      "look-up table. The actual p-value is smaller than the p-value returned.\n",
      "\n",
      "  kpss_test = kpss(ts_data[column])\n"
     ]
    }
   ],
   "source": [
    "print(test_stationarity(traj1, 'RS_E_InAirTemp_PC1'))\n",
    "print(test_stationarity_kpss(traj1, 'RS_E_InAirTemp_PC1'))"
   ]
  },
  {
   "cell_type": "code",
   "execution_count": 47,
   "metadata": {},
   "outputs": [
    {
     "name": "stdout",
     "output_type": "stream",
     "text": [
      "8381472     0.012365\n",
      "8381473     0.000000\n",
      "8381474     0.000000\n",
      "8381475     0.000000\n",
      "8381476     0.000000\n",
      "             ...    \n",
      "8383409    -1.000000\n",
      "8383410   -11.500000\n",
      "8383411     3.500000\n",
      "8383412    -3.500000\n",
      "8383413    11.500000\n",
      "Name: RS_E_InAirTemp_PC1, Length: 1942, dtype: float64\n"
     ]
    }
   ],
   "source": [
    "def differencing(data, column, order):\n",
    "    differenced_data = data[column].diff(order)\n",
    "    differenced_data.fillna(differenced_data.mean(), inplace=True)\n",
    "    return differenced_data\n",
    "\n",
    "preprocessed_data = differencing(traj1, 'RS_E_InAirTemp_PC1', 1)\n",
    "print(preprocessed_data)"
   ]
  },
  {
   "cell_type": "code",
   "execution_count": 48,
   "metadata": {},
   "outputs": [
    {
     "data": {
      "text/plain": [
       "'Stationary'"
      ]
     },
     "execution_count": 48,
     "metadata": {},
     "output_type": "execute_result"
    }
   ],
   "source": [
    "preprocessed_data = differencing(traj1, 'RS_E_InAirTemp_PC1', 2)\n",
    "test_stationarity(preprocessed_data, series=True)\n",
    "test_stationarity_kpss(preprocessed_data, series=True)"
   ]
  },
  {
   "cell_type": "code",
   "execution_count": 49,
   "metadata": {},
   "outputs": [
    {
     "name": "stderr",
     "output_type": "stream",
     "text": [
      "c:\\Users\\Vincent\\AppData\\Local\\Programs\\Python\\Python38\\lib\\site-packages\\statsmodels\\tsa\\base\\tsa_model.py:473: ValueWarning: An unsupported index was provided and will be ignored when e.g. forecasting.\n",
      "  self._init_dates(dates, freq)\n",
      "c:\\Users\\Vincent\\AppData\\Local\\Programs\\Python\\Python38\\lib\\site-packages\\statsmodels\\tsa\\base\\tsa_model.py:473: ValueWarning: An unsupported index was provided and will be ignored when e.g. forecasting.\n",
      "  self._init_dates(dates, freq)\n",
      "c:\\Users\\Vincent\\AppData\\Local\\Programs\\Python\\Python38\\lib\\site-packages\\statsmodels\\tsa\\base\\tsa_model.py:473: ValueWarning: An unsupported index was provided and will be ignored when e.g. forecasting.\n",
      "  self._init_dates(dates, freq)\n"
     ]
    }
   ],
   "source": [
    "def find_anomalies(squared_errors):\n",
    "    threshold = np.mean(squared_errors) + np.std(squared_errors)\n",
    "    predictions = (squared_errors >= threshold).astype(int)\n",
    "    return predictions, threshold\n",
    "\n",
    "min_order = (4, 0, 1)\n",
    "\n",
    "arima = ARIMA(preprocessed_data, order=min_order)\n",
    "arima_fit = arima.fit()\n",
    "squared_errors = arima_fit.resid ** 2\n",
    "predictions, threshold = find_anomalies(squared_errors)"
   ]
  },
  {
   "cell_type": "code",
   "execution_count": 50,
   "metadata": {},
   "outputs": [
    {
     "name": "stdout",
     "output_type": "stream",
     "text": [
      "                    timestamps_UTC  RS_E_InAirTemp_PC1  predictions\n",
      "8381472  2023-02-14 02:10:47+00:00                 2.0            0\n",
      "8381473  2023-02-14 02:11:47+00:00                 2.0            0\n",
      "8381474  2023-02-14 02:12:47+00:00                 2.0            0\n",
      "8381475  2023-02-14 02:13:47+00:00                 2.0            0\n",
      "8381476  2023-02-14 02:14:45+00:00                 2.0            0\n",
      "...                            ...                 ...          ...\n",
      "8383409  2023-02-15 10:38:12+00:00                26.0            0\n",
      "8383410  2023-02-15 10:39:13+00:00                14.5            1\n",
      "8383411  2023-02-15 10:40:13+00:00                18.0            1\n",
      "8383412  2023-02-15 10:41:13+00:00                14.5            1\n",
      "8383413  2023-02-15 10:42:03+00:00                26.0            0\n",
      "\n",
      "[1942 rows x 3 columns]\n"
     ]
    },
    {
     "name": "stderr",
     "output_type": "stream",
     "text": [
      "C:\\Users\\Vincent\\AppData\\Local\\Temp\\ipykernel_21828\\241238150.py:4: SettingWithCopyWarning: \n",
      "A value is trying to be set on a copy of a slice from a DataFrame.\n",
      "Try using .loc[row_indexer,col_indexer] = value instead\n",
      "\n",
      "See the caveats in the documentation: https://pandas.pydata.org/pandas-docs/stable/user_guide/indexing.html#returning-a-view-versus-a-copy\n",
      "  traj1['predictions'] = predictions\n"
     ]
    }
   ],
   "source": [
    "tmp = traj1\n",
    "traj1 = traj1[['timestamps_UTC','RS_E_InAirTemp_PC1']]\n",
    "\n",
    "traj1['predictions'] = predictions\n",
    "print(traj1)\n",
    "\n"
   ]
  },
  {
   "cell_type": "code",
   "execution_count": 51,
   "metadata": {},
   "outputs": [
    {
     "data": {
      "image/png": "[encoded data removed]",
      "text/plain": [
       "<Figure size 720x432 with 1 Axes>"
      ]
     },
     "metadata": {
      "needs_background": "light"
     },
     "output_type": "display_data"
    }
   ],
   "source": [
    "# Plotting\n",
    "plt.figure(figsize=(10, 6))\n",
    "plt.plot(traj1['timestamps_UTC'], traj1['RS_E_InAirTemp_PC1'], label='Real Values', color='blue')\n",
    "plt.plot(traj1['timestamps_UTC'], predictions, label='Predictions', color='green')\n",
    "plt.scatter(traj1['timestamps_UTC'][predictions == 1], traj1['RS_E_InAirTemp_PC1'][predictions == 1], label='Anomalies', color='red')\n",
    "plt.xlabel('Timestamps')\n",
    "plt.ylabel('RS_E_InAirTemp_PC1')\n",
    "plt.title('ARIMA Model Predictions with Anomalies')\n",
    "plt.legend()\n",
    "plt.show()"
   ]
  }
 ],
 "metadata": {
  "kernelspec": {
   "display_name": "Python 3",
   "language": "python",
   "name": "python3"
  },
  "language_info": {
   "codemirror_mode": {
    "name": "ipython",
    "version": 3
   },
   "file_extension": ".py",
   "mimetype": "text/x-python",
   "name": "python",
   "nbconvert_exporter": "python",
   "pygments_lexer": "ipython3",
   "version": "3.8.0"
  }
 },
 "nbformat": 4,
 "nbformat_minor": 2
}
