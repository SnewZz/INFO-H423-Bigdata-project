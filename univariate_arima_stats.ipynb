{
 "cells": [
  {
   "cell_type": "code",
   "execution_count": 1,
   "metadata": {},
   "outputs": [],
   "source": [
    "import pandas as pd\n",
    "import statsmodels.api as sm"
   ]
  },
  {
   "cell_type": "code",
   "execution_count": 2,
   "metadata": {},
   "outputs": [
    {
     "name": "stdout",
     "output_type": "stream",
     "text": [
      "(3487, 32)\n"
     ]
    }
   ],
   "source": [
    "file = './data/trajets_train.csv'\n",
    "df = pd.read_csv(file,sep=\",\",index_col=[0]) \n",
    "traj1 = df[df['traj']==7809] #3500\n",
    "print(traj1.shape)\n",
    "traj2 = df[df['traj']==89117] #2500"
   ]
  },
  {
   "cell_type": "code",
   "execution_count": 3,
   "metadata": {},
   "outputs": [],
   "source": [
    "new_traj1 = traj1[['timestamps_UTC', 'RS_E_InAirTemp_PC1']].copy()\n",
    "\n",
    "# Convert 'timestamps_UTC' to datetime format if it's not already\n",
    "new_traj1['timestamps_UTC'] = pd.to_datetime(new_traj1['timestamps_UTC'])\n",
    "\n",
    "# Set 'timestamps_UTC' as the index\n",
    "new_traj1.set_index('timestamps_UTC', inplace=True)\n",
    "\n",
    "\n",
    "new_traj2 = traj2[['timestamps_UTC', 'RS_E_InAirTemp_PC1']].copy()\n",
    "\n",
    "# Convert 'timestamps_UTC' to datetime format if it's not already\n",
    "new_traj2['timestamps_UTC'] = pd.to_datetime(new_traj2['timestamps_UTC'])\n",
    "\n",
    "# Set 'timestamps_UTC' as the index\n",
    "new_traj2.set_index('timestamps_UTC', inplace=True)\n"
   ]
  },
  {
   "cell_type": "code",
   "execution_count": 5,
   "metadata": {},
   "outputs": [
    {
     "name": "stdout",
     "output_type": "stream",
     "text": [
      "                           RS_E_InAirTemp_PC1\n",
      "timestamps_UTC                               \n",
      "2023-06-10 09:46:43+00:00                38.0\n",
      "2023-06-10 09:47:43+00:00                37.0\n",
      "2023-06-10 09:48:43+00:00                37.0\n",
      "2023-06-10 09:49:43+00:00                37.0\n",
      "2023-06-10 09:50:47+00:00                37.0\n",
      "...                                       ...\n",
      "2023-06-12 20:41:37+00:00                41.0\n",
      "2023-06-12 20:42:32+00:00                47.0\n",
      "2023-06-12 20:43:31+00:00                52.0\n",
      "2023-06-12 20:44:32+00:00                55.0\n",
      "2023-06-12 20:45:32+00:00                57.0\n",
      "\n",
      "[3487 rows x 1 columns]\n"
     ]
    }
   ],
   "source": [
    "print(new_traj1)"
   ]
  },
  {
   "cell_type": "code",
   "execution_count": null,
   "metadata": {},
   "outputs": [],
   "source": [
    "traj1.set_index('timestamps_UTC', inplace=True)\n",
    "traj2.set_index('timestamps_UTC', inplace=True)\n",
    "# traj1 = traj1.reset_index(drop=True)\n",
    "# traj2 = traj2.reset_index(drop=True)\n",
    "# \n",
    "# traj1.index = pd.DatetimeIndex(traj1.index).to_period('T')\n",
    "# traj2.index = pd.DatetimeIndex(traj2.index).to_period('T')"
   ]
  },
  {
   "cell_type": "code",
   "execution_count": null,
   "metadata": {},
   "outputs": [],
   "source": [
    "# Check for duplicate timestamps in traj1\n",
    "duplicate_timestamps_traj1 = traj1.index.duplicated()\n",
    "\n",
    "# Check for duplicate timestamps in traj2\n",
    "duplicate_timestamps_traj2 = traj2.index.duplicated()\n",
    "\n",
    "# Print the results\n",
    "print(\"Duplicate timestamps in traj1:\", duplicate_timestamps_traj1.any())\n",
    "print(\"Duplicate timestamps in traj2:\", duplicate_timestamps_traj2.any())\n"
   ]
  },
  {
   "cell_type": "code",
   "execution_count": null,
   "metadata": {},
   "outputs": [],
   "source": [
    "# traj1.index = pd.to_datetime(traj1.index, format='%Y-%m-%d %H:%M:%S+00:00')\n",
    "# traj2.index = pd.to_datetime(traj2.index, format='%Y-%m-%d %H:%M:%S+00:00')\n",
    "\n",
    "traj1.index = pd.DatetimeIndex(traj1.index)\n",
    "traj2.index = pd.DatetimeIndex(traj2.index)\n",
    "# traj1.index.asfreq('T')\n",
    "# traj2.index.asfreq('T')\n"
   ]
  },
  {
   "cell_type": "code",
   "execution_count": null,
   "metadata": {},
   "outputs": [],
   "source": [
    "print(traj1.index.unique())\n"
   ]
  },
  {
   "cell_type": "code",
   "execution_count": 7,
   "metadata": {},
   "outputs": [
    {
     "name": "stderr",
     "output_type": "stream",
     "text": [
      "c:\\Users\\Vincent\\AppData\\Local\\Programs\\Python\\Python38\\lib\\site-packages\\statsmodels\\tsa\\base\\tsa_model.py:473: ValueWarning: A date index has been provided, but it has no associated frequency information and so will be ignored when e.g. forecasting.\n",
      "  self._init_dates(dates, freq)\n",
      "c:\\Users\\Vincent\\AppData\\Local\\Programs\\Python\\Python38\\lib\\site-packages\\statsmodels\\tsa\\base\\tsa_model.py:473: ValueWarning: A date index has been provided, but it has no associated frequency information and so will be ignored when e.g. forecasting.\n",
      "  self._init_dates(dates, freq)\n",
      "c:\\Users\\Vincent\\AppData\\Local\\Programs\\Python\\Python38\\lib\\site-packages\\statsmodels\\tsa\\base\\tsa_model.py:473: ValueWarning: A date index has been provided, but it has no associated frequency information and so will be ignored when e.g. forecasting.\n",
      "  self._init_dates(dates, freq)\n"
     ]
    }
   ],
   "source": [
    "# Assuming 'df' is your DataFrame with a 'timestamps' column and a 'value' column\n",
    "# Adjust parameters as needed\n",
    "order = (4, 1, 1)  # Example ARIMA order (p, d, q)\n",
    "model = sm.tsa.ARIMA(new_traj1['RS_E_InAirTemp_PC1'], order=order)\n",
    "results = model.fit()\n",
    "\n",
    "# Make predictions\n",
    "new_traj1['predictions'] = results.predict(start=new_traj1.index.min(), end=new_traj1.index.max(), dynamic=False)\n",
    "\n",
    "# Compute residuals (difference between actual and predicted values)\n",
    "new_traj1['residuals'] = new_traj1['RS_E_InAirTemp_PC1'] - new_traj1['predictions']\n",
    "\n",
    "# Anomaly detection: Define a threshold for anomaly detection based on residuals\n",
    "threshold = 2.0  # Adjust as needed\n",
    "new_traj1['anomaly'] = abs(new_traj1['residuals']) > threshold"
   ]
  },
  {
   "cell_type": "code",
   "execution_count": null,
   "metadata": {},
   "outputs": [],
   "source": [
    "print(traj2[traj2.index.duplicated(keep=False)])\n"
   ]
  },
  {
   "cell_type": "code",
   "execution_count": null,
   "metadata": {},
   "outputs": [],
   "source": [
    "import matplotlib.pyplot as plt\n",
    "\n",
    "# Plot real values, predicted values, and errors\n",
    "plt.figure(figsize=(10, 6))\n",
    "\n",
    "# Plot real values\n",
    "plt.plot(new_traj1['timestamps_UTC'], new_traj1['RS_E_InAirTemp_PC1'], label='Real Values', color='blue')\n",
    "\n",
    "# Plot predicted values\n",
    "plt.plot(new_traj1['timestamps_UTC'], new_traj1['predictions'], label='Predicted Values', color='green')\n",
    "\n",
    "# Plot errors\n",
    "plt.plot(new_traj1['timestamps_UTC'], new_traj1['residuals'], label='Residuals', color='red')\n",
    "\n",
    "# Highlight anomalies\n",
    "anomalies = new_traj1[new_traj1['anomaly']]\n",
    "plt.scatter(anomalies['timestamps_UTC'], anomalies['RS_E_InAirTemp_PC1'], color='red', label='Anomalies', marker='x')\n",
    "\n",
    "plt.xlabel('Timestamp')\n",
    "plt.ylabel('Value')\n",
    "plt.title('ARIMA Model: Real vs Predicted Values with Residuals')\n",
    "plt.legend()\n",
    "plt.show()\n"
   ]
  }
 ],
 "metadata": {
  "kernelspec": {
   "display_name": "Python 3",
   "language": "python",
   "name": "python3"
  },
  "language_info": {
   "codemirror_mode": {
    "name": "ipython",
    "version": 3
   },
   "file_extension": ".py",
   "mimetype": "text/x-python",
   "name": "python",
   "nbconvert_exporter": "python",
   "pygments_lexer": "ipython3",
   "version": "3.8.0"
  }
 },
 "nbformat": 4,
 "nbformat_minor": 2
}
